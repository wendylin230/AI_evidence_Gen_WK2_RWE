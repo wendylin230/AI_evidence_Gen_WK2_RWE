{
 "cells": [
  {
   "cell_type": "code",
   "execution_count": 1,
   "id": "47e2ee83-207c-4b68-a64a-f1ee14254802",
   "metadata": {},
   "outputs": [],
   "source": [
    "# Load packages\n",
    "from tableone import TableOne\n",
    "import pandas as pd"
   ]
  },
  {
   "cell_type": "code",
   "execution_count": 2,
   "id": "fed246fd-bc39-4cbf-823c-8938434d4ef0",
   "metadata": {},
   "outputs": [],
   "source": [
    "# Load example data for now, replace it with study data\n",
    "url=\"https://raw.githubusercontent.com/tompollard/data/master/primary-biliary-cirrhosis/pbc.csv\"\n",
    "data=pd.read_csv(url)"
   ]
  },
  {
   "cell_type": "code",
   "execution_count": 6,
   "id": "c3f07324-a812-469e-ab40-49329f38c81d",
   "metadata": {},
   "outputs": [],
   "source": [
    "# Example\n",
    "columns = ['age','bili','albumin','ast','platelet','protime',\n",
    "       'ascites','hepato','spiders','edema','sex', 'trt']\n",
    "categorical = ['ascites','hepato','edema','sex','spiders','trt']\n",
    "groupby = 'trt'\n",
    "nonnormal = ['bili']\n",
    "#mytable = TableOne(data, columns, categorical, groupby, nonnormal)\n",
    "mytable = TableOne(data, columns, categorical, groupby, nonnormal, pval=True)\n"
   ]
  },
  {
   "cell_type": "code",
   "execution_count": 7,
   "id": "bebb4499-365f-410e-82df-77e73275d397",
   "metadata": {},
   "outputs": [
    {
     "name": "stdout",
     "output_type": "stream",
     "text": [
      "|                      |     | Missing   | Overall       | 1.0           | 2.0           | P-Value   |\n",
      "|----------------------|-----|-----------|---------------|---------------|---------------|-----------|\n",
      "| n                    |     |           | 418           | 158           | 154           |           |\n",
      "| age, mean (SD)       |     | 0         | 50.7 (10.4)   | 51.4 (11.0)   | 48.6 (10.0)   | 0.018     |\n",
      "| bili, median [Q1,Q3] |     | 0         | 1.4 [0.8,3.4] | 1.4 [0.8,3.2] | 1.3 [0.7,3.6] | 0.842     |\n",
      "| albumin, mean (SD)   |     | 0         | 3.5 (0.4)     | 3.5 (0.4)     | 3.5 (0.4)     | 0.874     |\n",
      "| ast, mean (SD)       |     | 106       | 122.6 (56.7)  | 120.2 (54.5)  | 125.0 (58.9)  | 0.460     |\n",
      "| platelet, mean (SD)  |     | 11        | 257.0 (98.3)  | 258.8 (100.3) | 265.2 (90.7)  | 0.554     |\n",
      "| protime, mean (SD)   |     | 2         | 10.7 (1.0)    | 10.7 (0.9)    | 10.8 (1.1)    | 0.199     |\n",
      "| ascites, n (%)       | 0.0 | 106       | 288 (92.3)    | 144 (91.1)    | 144 (93.5)    | 0.567     |\n",
      "|                      | 1.0 |           | 24 (7.7)      | 14 (8.9)      | 10 (6.5)      |           |\n",
      "| hepato, n (%)        | 0.0 | 106       | 152 (48.7)    | 85 (53.8)     | 67 (43.5)     | 0.088     |\n",
      "|                      | 1.0 |           | 160 (51.3)    | 73 (46.2)     | 87 (56.5)     |           |\n",
      "| spiders, n (%)       | 0.0 | 106       | 222 (71.2)    | 113 (71.5)    | 109 (70.8)    | 0.985     |\n",
      "|                      | 1.0 |           | 90 (28.8)     | 45 (28.5)     | 45 (29.2)     |           |\n",
      "| edema, n (%)         | 0.0 | 0         | 354 (84.7)    | 132 (83.5)    | 131 (85.1)    | 0.877     |\n",
      "|                      | 0.5 |           | 44 (10.5)     | 16 (10.1)     | 13 (8.4)      |           |\n",
      "|                      | 1.0 |           | 20 (4.8)      | 10 (6.3)      | 10 (6.5)      |           |\n",
      "| sex, n (%)           | f   | 0         | 374 (89.5)    | 137 (86.7)    | 139 (90.3)    | 0.421     |\n",
      "|                      | m   |           | 44 (10.5)     | 21 (13.3)     | 15 (9.7)      |           |\n",
      "| trt, n (%)           | 1.0 | 106       | 158 (50.6)    | 158 (100.0)   |               | <0.001    |\n",
      "|                      | 2.0 |           | 154 (49.4)    |               | 154 (100.0)   |           |\n"
     ]
    }
   ],
   "source": [
    "print(mytable.tabulate(tablefmt=\"github\"))"
   ]
  }
 ],
 "metadata": {
  "kernelspec": {
   "display_name": "Python 3 (ipykernel)",
   "language": "python",
   "name": "python3"
  },
  "language_info": {
   "codemirror_mode": {
    "name": "ipython",
    "version": 3
   },
   "file_extension": ".py",
   "mimetype": "text/x-python",
   "name": "python",
   "nbconvert_exporter": "python",
   "pygments_lexer": "ipython3",
   "version": "3.9.13"
  }
 },
 "nbformat": 4,
 "nbformat_minor": 5
}
